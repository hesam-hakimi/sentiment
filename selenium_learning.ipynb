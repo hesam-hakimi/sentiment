{
 "metadata": {
  "language_info": {
   "codemirror_mode": {
    "name": "ipython",
    "version": 3
   },
   "file_extension": ".py",
   "mimetype": "text/x-python",
   "name": "python",
   "nbconvert_exporter": "python",
   "pygments_lexer": "ipython3",
   "version": "3.8.8"
  },
  "orig_nbformat": 2,
  "kernelspec": {
   "name": "python388jvsc74a57bd01baa965d5efe3ac65b79dfc60c0d706280b1da80fedb7760faf2759126c4f253",
   "display_name": "Python 3.8.8 64-bit"
  },
  "metadata": {
   "interpreter": {
    "hash": "1baa965d5efe3ac65b79dfc60c0d706280b1da80fedb7760faf2759126c4f253"
   }
  }
 },
 "nbformat": 4,
 "nbformat_minor": 2,
 "cells": [
  {
   "cell_type": "code",
   "execution_count": 45,
   "metadata": {},
   "outputs": [],
   "source": [
    "from  selenium import webdriver\n",
    "from selenium.webdriver.common.keys import Keys\n",
    "from selenium.webdriver.common.by import By\n",
    "from selenium.webdriver.support.ui import WebDriverWait\n",
    "from selenium.webdriver.support import expected_conditions as EC\n"
   ]
  },
  {
   "cell_type": "code",
   "execution_count": 46,
   "metadata": {},
   "outputs": [],
   "source": [
    "driver= webdriver.Chrome()"
   ]
  },
  {
   "cell_type": "code",
   "execution_count": 47,
   "metadata": {},
   "outputs": [],
   "source": [
    "driver.get(\"http:google.com\")"
   ]
  },
  {
   "cell_type": "code",
   "execution_count": 48,
   "metadata": {},
   "outputs": [
    {
     "output_type": "execute_result",
     "data": {
      "text/plain": [
       "'Google'"
      ]
     },
     "metadata": {},
     "execution_count": 48
    }
   ],
   "source": [
    "driver.title"
   ]
  },
  {
   "cell_type": "code",
   "execution_count": 49,
   "metadata": {},
   "outputs": [],
   "source": [
    "search= driver.find_element_by_name(\"q\")"
   ]
  },
  {
   "cell_type": "code",
   "execution_count": 50,
   "metadata": {},
   "outputs": [],
   "source": [
    "search.send_keys('saeedeh poormoosa')"
   ]
  },
  {
   "cell_type": "code",
   "execution_count": 51,
   "metadata": {},
   "outputs": [],
   "source": [
    "search.send_keys(Keys.RETURN)\n"
   ]
  },
  {
   "cell_type": "code",
   "execution_count": 52,
   "metadata": {},
   "outputs": [],
   "source": [
    "try:\n",
    "    main= WebDriverWait(driver, 10).until(\n",
    "        EC.presence_of_element_located((By.ID, \"rcnt\"))\n",
    "\n",
    "    )\n",
    "except:\n",
    "    driver.quit()"
   ]
  },
  {
   "cell_type": "code",
   "execution_count": 53,
   "metadata": {
    "tags": [
     "outputPrepend"
    ]
   },
   "outputs": [
    {
     "output_type": "stream",
     "name": "stdout",
     "text": [
      "ction(a){return a in this.j?this.j[a]:null};var Fh=new Dh(_.sd);_.Dc(\"dd\",Fh);\n\n}catch(e){_._DumpException(e)}\ntry{\n_.hj=function(a,b){a=a.split(\".\");b=b||_.t;for(var c=0;c<a.length;c++)if(b=b[a[c]],null==b)return null;return b};\n\n}catch(e){_._DumpException(e)}\ntry{\nvar ij=document.querySelector(\".gb_Oa .gb_D\"),jj=document.querySelector(\"#gb.gb_Ec\");ij&&!jj&&_.Ed(_.ud,ij,\"click\");\n\n}catch(e){_._DumpException(e)}\n})(this.gbar_);\n// Google Inc.\n;this.gbar_=this.gbar_||{};(function(_){var window=this;\ntry{\n/*\n\n Copyright The Closure Library Authors.\n SPDX-License-Identifier: Apache-2.0\n*/\nvar Od,Pd,Qd,Rd,Sd,Td,Ud,Wd,Yd,be,ae,de;_.Jd=function(a){var b=a.length;if(0<b){for(var c=Array(b),d=0;d<b;d++)c[d]=a[d];return c}return[]};_.Kd=function(a,b){var c=Array.prototype.slice.call(arguments,1);return function(){var d=c.slice();d.push.apply(d,arguments);return a.apply(this,d)}};_.Ld=function(a){var b=typeof a;return\"object\"!=b?b:a?Array.isArray(a)?\"array\":b:\"null\"};_.Md=function(a){var b=_.Ld(a);return\"array\"==b||\"object\"==b&&\"number\"==typeof a.length};\n_.Nd=function(a,b){return 0==a.lastIndexOf(b,0)};Od=/&/g;Pd=/</g;Qd=/>/g;Rd=/\"/g;Sd=/'/g;Td=/\\x00/g;Ud=/[\\x00&<>\"']/;\n_.Vd=function(a,b){if(b)a=a.replace(Od,\"&amp;\").replace(Pd,\"&lt;\").replace(Qd,\"&gt;\").replace(Rd,\"&quot;\").replace(Sd,\"&#39;\").replace(Td,\"&#0;\");else{if(!Ud.test(a))return a;-1!=a.indexOf(\"&\")&&(a=a.replace(Od,\"&amp;\"));-1!=a.indexOf(\"<\")&&(a=a.replace(Pd,\"&lt;\"));-1!=a.indexOf(\">\")&&(a=a.replace(Qd,\"&gt;\"));-1!=a.indexOf('\"')&&(a=a.replace(Rd,\"&quot;\"));-1!=a.indexOf(\"'\")&&(a=a.replace(Sd,\"&#39;\"));-1!=a.indexOf(\"\\x00\")&&(a=a.replace(Td,\"&#0;\"))}return a};Wd=function(a,b){return a<b?-1:a>b?1:0};\n_.Xd=function(a,b){var c=0;a=(0,_.Wa)(String(a)).split(\".\");b=(0,_.Wa)(String(b)).split(\".\");for(var d=Math.max(a.length,b.length),e=0;0==c&&e<d;e++){var f=a[e]||\"\",g=b[e]||\"\";do{f=/(\\d*)(\\D*)(.*)/.exec(f)||[\"\",\"\",\"\",\"\"];g=/(\\d*)(\\D*)(.*)/.exec(g)||[\"\",\"\",\"\",\"\"];if(0==f[0].length&&0==g[0].length)break;c=Wd(0==f[1].length?0:parseInt(f[1],10),0==g[1].length?0:parseInt(g[1],10))||Wd(0==f[2].length,0==g[2].length)||Wd(f[2],g[2]);f=f[3];g=g[3]}while(0==c)}return c};Yd=null;\n_.Zd=function(a,b){a.src=_.Ta(b);(b=a.ownerDocument&&a.ownerDocument.defaultView)&&b!=_.t?b=_.yb(b.document,\"script\"):(null===Yd&&(Yd=_.yb(_.t.document,\"script\")),b=Yd);b&&a.setAttribute(\"nonce\",b)};_.$d=function(a){return a=_.Vd(a,void 0)};be=function(a,b){var c=ae;return Object.prototype.hasOwnProperty.call(c,a)?c[a]:c[a]=b(a)};ae={};_.ce=function(a){return be(a,function(){return 0<=_.Xd(_.Yb,a)})};try{(new self.OffscreenCanvas(0,0)).getContext(\"2d\")}catch(a){}de=!_.A||9<=Number(_.ac);\n_.ee=!_.Jb&&!_.A||_.A&&9<=Number(_.ac)||_.Jb&&_.ce(\"1.9.1\");_.fe=_.A&&!_.ce(\"9\");_.ge=_.A||_.Gb||_.Kb;\n_.he=function(a,b){this.width=a;this.height=b};_.h=_.he.prototype;_.h.aspectRatio=function(){return this.width/this.height};_.h.Nb=function(){return!(this.width*this.height)};_.h.ceil=function(){this.width=Math.ceil(this.width);this.height=Math.ceil(this.height);return this};_.h.floor=function(){this.width=Math.floor(this.width);this.height=Math.floor(this.height);return this};_.h.round=function(){this.width=Math.round(this.width);this.height=Math.round(this.height);return this};\nvar ke;_.ie=function(a,b){return(b||document).getElementsByTagName(String(a))};_.M=function(a,b){var c=b||document;if(c.getElementsByClassName)a=c.getElementsByClassName(a)[0];else{c=document;var d=b||c;a=d.querySelectorAll&&d.querySelector&&a?d.querySelector(a?\".\"+a:\"\"):_.je(c,\"*\",a,b)[0]||null}return a||null};\n_.je=function(a,b,c,d){a=d||a;b=b&&\"*\"!=b?String(b).toUpperCase():\"\";if(a.querySelectorAll&&a.querySelector&&(b||c))return a.querySelectorAll(b+(c?\".\"+c:\"\"));if(c&&a.getElementsByClassName){a=a.getElementsByClassName(c);if(b){d={};for(var e=0,f=0,g;g=a[f];f++)b==g.nodeName&&(d[e++]=g);d.length=e;return d}return a}a=a.getElementsByTagName(b||\"*\");if(c){d={};for(f=e=0;g=a[f];f++)b=g.className,\"function\"==typeof b.split&&_.ca(b.split(/\\s+/),c)&&(d[e++]=g);d.length=e;return d}return a};\n_.le=function(a,b){_.da(b,function(c,d){c&&\"object\"==typeof c&&c.Ub&&(c=c.Fb());\"style\"==d?a.style.cssText=c:\"class\"==d?a.className=c:\"for\"==d?a.htmlFor=c:ke.hasOwnProperty(d)?a.setAttribute(ke[d],c):_.Nd(d,\"aria-\")||_.Nd(d,\"data-\")?a.setAttribute(d,c):a[d]=c})};ke={cellpadding:\"cellPadding\",cellspacing:\"cellSpacing\",colspan:\"colSpan\",frameborder:\"frameBorder\",height:\"height\",maxlength:\"maxLength\",nonce:\"nonce\",role:\"role\",rowspan:\"rowSpan\",type:\"type\",usemap:\"useMap\",valign:\"vAlign\",width:\"width\"};\n_.oe=function(a,b){var c=String(b[0]),d=b[1];if(!de&&d&&(d.name||d.type)){c=[\"<\",c];d.name&&c.push(' name=\"',_.$d(d.name),'\"');if(d.type){c.push(' type=\"',_.$d(d.type),'\"');var e={};_.fa(e,d);delete e.type;d=e}c.push(\">\");c=c.join(\"\")}c=_.me(a,c);d&&(\"string\"===typeof d?c.className=d:Array.isArray(d)?c.className=d.join(\" \"):_.le(c,d));2<b.length&&_.ne(a,c,b,2);return c};\n_.ne=function(a,b,c,d){function e(k){k&&b.appendChild(\"string\"===typeof k?a.createTextNode(k):k)}for(;d<c.length;d++){var f=c[d];if(!_.Md(f)||_.Ea(f)&&0<f.nodeType)e(f);else{a:{if(f&&\"number\"==typeof f.length){if(_.Ea(f)){var g=\"function\"==typeof f.item||\"string\"==typeof f.item;break a}if(\"function\"===typeof f){g=\"function\"==typeof f.item;break a}}g=!1}_.Ka(g?_.Jd(f):f,e)}}};_.pe=function(a){return _.me(document,a)};\n_.me=function(a,b){b=String(b);\"application/xhtml+xml\"===a.contentType&&(b=b.toLowerCase());return a.createElement(b)};_.qe=function(a){for(var b;b=a.firstChild;)a.removeChild(b)};_.re=function(a){return a&&a.parentNode?a.parentNode.removeChild(a):null};_.se=function(a){return _.Ea(a)&&1==a.nodeType};_.te=function(a){return 9==a.nodeType?a:a.ownerDocument||a.document};_.ue=function(a,b,c){for(var d=0;a&&(null==c||d<=c);){if(b(a))return a;a=a.parentNode;d++}return null};\n\n}catch(e){_._DumpException(e)}\ntry{\n_.nj=function(a){return _.Va(_.F(a,4)||\"\")};_.oj=function(a){_.E(this,a,0,-1,null,null)};_.r(_.oj,_.B);_.pj=function(a,b,c){a.rel=c;-1!=c.toLowerCase().indexOf(\"stylesheet\")?(a.href=_.Ua(b),(b=_.Ab(a.ownerDocument&&a.ownerDocument.defaultView))&&a.setAttribute(\"nonce\",b)):a.href=b instanceof _.Sa?_.Ua(b):b instanceof _.Ya?_.Za(b):_.Za(_.eb(b))};\n\n}catch(e){_._DumpException(e)}\ntry{\nvar qj=function(a,b,c){_.td.log(46,{att:a,max:b,url:c})},sj=function(a,b,c){_.td.log(47,{att:a,max:b,url:c});a<b?rj(a+1,b):_.sd.log(Error(\"P`\"+a+\"`\"+b),{url:c})},rj=function(a,b){if(tj){var c=_.pe(\"SCRIPT\");c.async=!0;c.type=\"text/javascript\";c.charset=\"UTF-8\";_.Zd(c,tj);c.onload=_.Kd(qj,a,b,c.src);c.onerror=_.Kd(sj,a,b,c.src);_.td.log(45,{att:a,max:b,url:c.src});_.ie(\"HEAD\")[0].appendChild(c)}},uj=function(a){_.E(this,a,0,-1,null,null)};_.r(uj,_.B);\nvar vj=_.I(_.od,uj,17)||new uj,wj,tj=(wj=_.I(vj,_.oj,1))?_.nj(wj):null,xj,yj=(xj=_.I(vj,_.oj,2))?_.nj(xj):null,zj=function(){rj(1,2);if(yj){var a=_.pe(\"LINK\");a.setAttribute(\"type\",\"text/css\");_.pj(a,yj,\"stylesheet\");var b=_.Ab();b&&a.setAttribute(\"nonce\",b);_.ie(\"HEAD\")[0].appendChild(a)}};\n(function(){var a=_.pd();if(_.G(a,18))zj();else{var b=_.F(a,19)||0;window.addEventListener(\"load\",function(){window.setTimeout(zj,b)})}})();\n\n}catch(e){_._DumpException(e)}\n})(this.gbar_);\n// Google Inc.\n;});})();(function(){google.drty&&google.drty();})();});</script><div></div><div id=\"lfootercc\"><script nonce=\"YuoW3ft8i0uFqctuHeFE9A==\">(function(){for(var i in google.iir||{}){_setImagesSrc([i],google.iir[i]);}google.iir={};})();</script><div id=\"reviewDialog\" data-async-context=\"async_id_prefix:\" data-jiis=\"up\" data-async-type=\"reviewDialog\" data-async-context-required=\"async_id_prefix\" class=\"yp\"></div><div id=\"dbg_\"></div></div><script src=\"/xjs/_/js/k=xjs.s.en_GB.90hHuyvdWEk.O/m=ZyRBae,cdos,dpf,hsm,jsa,d,csi/am=gjJEAADgQwIRKAAAAAAJAAAAACAACgEAkt2iAABAzSMDAIAAAo6AwqQIEQAAAExgH5Dz3wQAXMAmDAAAAAAAEIBLoFEqQKIgAAEAAABktXJyCAVAAQ/d=1/ed=1/dg=2/br=1/rs=ACT90oEzfTUjbLCIRZ5Br6a-GNhVstUJCw\" nonce=\"YuoW3ft8i0uFqctuHeFE9A==\"></script><div class=\"gb_Hd\">Google apps</div><script src=\"/xjs/_/js/k=xjs.s.en_GB.90hHuyvdWEk.O/ck=xjs.s.bp9vizftmvQ.L.W.O/am=gjJEAADgQwIRKAAAAAAJAAAAACAACgEAkt2iAABAzSMDAIAAAo6AwqQIEQAAAExgH5Dz3wQAXMAmDAAAAAAAEIBLoFEqQKIgAAEAAABktXJyCAVAAQ/d=1/exm=ZyRBae,cdos,csi,d,dpf,hsm,jsa/ed=1/dg=2/br=1/rs=ACT90oFZRLHU_ukzhrRw_veBWWDxrNH79w/m=E2Spzb,IkchZc,KVWnye,NBZ7u,O8k1Cd,OG6ZHd,RL6dv,SvnKM,T7XTS,TxZWcc,URQPYc,XjCeUc,aCZVp,aa,abd,async,bgd,dvl,eN4qad,eT9j9d,fEVMic,fk3mof,foot,gpo5Gf,iD8Yk,kyn,lli,mUpTid,mu,o02Jie,pB6Zqd,pkeO3b,qik19b,rHjpXd,runuse,sb_wiz,sf,sonic,spch,tl,tt,wkrYee,xz7cCd,zbML3c?xjs=s1\" nonce=\"YuoW3ft8i0uFqctuHeFE9A==\" async=\"\" gapi_processed=\"true\"></script><script src=\"/xjs/_/js/k=xjs.s.en_GB.90hHuyvdWEk.O/ck=xjs.s.bp9vizftmvQ.L.W.O/am=gjJEAADgQwIRKAAAAAAJAAAAACAACgEAkt2iAABAzSMDAIAAAo6AwqQIEQAAAExgH5Dz3wQAXMAmDAAAAAAAEIBLoFEqQKIgAAEAAABktXJyCAVAAQ/d=1/exm=E2Spzb,IkchZc,KVWnye,NBZ7u,O8k1Cd,OG6ZHd,RL6dv,SvnKM,T7XTS,TxZWcc,URQPYc,XjCeUc,ZyRBae,aCZVp,aa,abd,async,bgd,cdos,csi,d,dpf,dvl,eN4qad,eT9j9d,fEVMic,fk3mof,foot,gpo5Gf,hsm,iD8Yk,jsa,kyn,lli,mUpTid,mu,o02Jie,pB6Zqd,pkeO3b,qik19b,rHjpXd,runuse,sb_wiz,sf,sonic,spch,tl,tt,wkrYee,xz7cCd,zbML3c/ed=1/dg=2/br=1/rs=ACT90oFZRLHU_ukzhrRw_veBWWDxrNH79w/m=qjr3nc,wQpTuc?xjs=s2\" nonce=\"YuoW3ft8i0uFqctuHeFE9A==\" async=\"\"></script><div id=\"snbc\"><div jsname=\"sM5MNb\" aria-live=\"polite\" class=\"SaJ9Qe\"></div></div><script src=\"/xjs/_/js/k=xjs.s.en_GB.90hHuyvdWEk.O/ck=xjs.s.bp9vizftmvQ.L.W.O/am=gjJEAADgQwIRKAAAAAAJAAAAACAACgEAkt2iAABAzSMDAIAAAo6AwqQIEQAAAExgH5Dz3wQAXMAmDAAAAAAAEIBLoFEqQKIgAAEAAABktXJyCAVAAQ/d=1/exm=E2Spzb,IkchZc,KVWnye,NBZ7u,O8k1Cd,OG6ZHd,RL6dv,SvnKM,T7XTS,TxZWcc,URQPYc,XjCeUc,ZyRBae,aCZVp,aa,abd,async,bgd,cdos,csi,d,dpf,dvl,eN4qad,eT9j9d,fEVMic,fk3mof,foot,gpo5Gf,hsm,iD8Yk,jsa,kyn,lli,mUpTid,mu,o02Jie,pB6Zqd,pkeO3b,qik19b,qjr3nc,rHjpXd,runuse,sb_wiz,sf,sonic,spch,tl,tt,wQpTuc,wkrYee,xz7cCd,zbML3c/ed=1/dg=2/br=1/rs=ACT90oFZRLHU_ukzhrRw_veBWWDxrNH79w/m=NZI0Db,T6sTsf,Uuupec,WVLMce,fWEITb,hiU8Ie,mD3xrf,r36a9c,uiNkee?xjs=s2\" nonce=\"YuoW3ft8i0uFqctuHeFE9A==\" async=\"\"></script></body></html>\n"
     ]
    }
   ],
   "source": [
    "print(driver.page_source)"
   ]
  },
  {
   "cell_type": "code",
   "execution_count": 54,
   "metadata": {},
   "outputs": [],
   "source": [
    "z=main.find_elements_by_xpath(\"//h3\")"
   ]
  },
  {
   "cell_type": "code",
   "execution_count": 55,
   "metadata": {},
   "outputs": [
    {
     "output_type": "stream",
     "name": "stdout",
     "text": [
      "Saeedeh POORMOOSA | University of Tehran, Tehran | UT ...\n",
      "Saeedeh Poormoosa (saeedehpoormoosa) - Profile | Pinterest\n",
      "Top 6 Saeedeh profiles at System-group | LinkedIn\n",
      "Images for saeedeh poormoosa\n",
      "Reza Rahmati – Senior Frontend Developer – Altus Group ...\n",
      "Saeed Poormousa प्रोफाइल | Facebook\n",
      "Saiedeh Maghool Phone Number, Address, Public Records ...\n",
      "System Group Management | System Group Employees\n",
      "Habitant's Empowerment of urban timeworn ... - CiteSeerX\n",
      "Habitant's Empowerment of urban timeworn textures along ...\n"
     ]
    }
   ],
   "source": [
    "for item in z:\n",
    "    print (item.text)"
   ]
  },
  {
   "cell_type": "code",
   "execution_count": 56,
   "metadata": {},
   "outputs": [],
   "source": [
    "link=driver.find_element_by_partial_link_text(\"Saeedeh POORMOOSA\")"
   ]
  },
  {
   "cell_type": "code",
   "execution_count": 57,
   "metadata": {},
   "outputs": [],
   "source": [
    "driver.execute_script(\"arguments[0].click();\", link)"
   ]
  },
  {
   "cell_type": "code",
   "execution_count": 69,
   "metadata": {},
   "outputs": [],
   "source": [
    "try:\n",
    "    contact= WebDriverWait(driver, 10).until(\n",
    "        EC.presence_of_element_located((By.XPATH, '//*[@id=\"lite-page\"]/main/section[1]/div/div[2]/div/div/div/div[2]/div/div[2]/div[2]/button'))\n",
    "    driver.execute_script(\"arguments[0].click()\", contact)\n",
    "\n",
    "    )\n",
    "except:\n",
    "    print (\"not found\")"
   ]
  },
  {
   "cell_type": "code",
   "execution_count": 70,
   "metadata": {},
   "outputs": [
    {
     "output_type": "execute_result",
     "data": {
      "text/plain": [
       "'Contact'"
      ]
     },
     "metadata": {},
     "execution_count": 70
    }
   ],
   "source": [
    "contact.text"
   ]
  },
  {
   "cell_type": "code",
   "execution_count": 72,
   "metadata": {},
   "outputs": [],
   "source": [
    "driver.execute_script(\"arguments[0].click()\", contact)"
   ]
  },
  {
   "cell_type": "code",
   "execution_count": 73,
   "metadata": {},
   "outputs": [],
   "source": [
    "driver.back()"
   ]
  },
  {
   "cell_type": "code",
   "execution_count": 74,
   "metadata": {},
   "outputs": [],
   "source": [
    "driver.forward()"
   ]
  },
  {
   "cell_type": "code",
   "execution_count": 77,
   "metadata": {},
   "outputs": [],
   "source": [
    "driver.quit() "
   ]
  },
  {
   "cell_type": "code",
   "execution_count": null,
   "metadata": {},
   "outputs": [],
   "source": []
  }
 ]
}