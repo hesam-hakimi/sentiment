{
 "metadata": {
  "language_info": {
   "codemirror_mode": {
    "name": "ipython",
    "version": 3
   },
   "file_extension": ".py",
   "mimetype": "text/x-python",
   "name": "python",
   "nbconvert_exporter": "python",
   "pygments_lexer": "ipython3",
   "version": "3.8.8"
  },
  "orig_nbformat": 2,
  "kernelspec": {
   "name": "python388jvsc74a57bd01baa965d5efe3ac65b79dfc60c0d706280b1da80fedb7760faf2759126c4f253",
   "display_name": "Python 3.8.8 64-bit"
  },
  "metadata": {
   "interpreter": {
    "hash": "1baa965d5efe3ac65b79dfc60c0d706280b1da80fedb7760faf2759126c4f253"
   }
  }
 },
 "nbformat": 4,
 "nbformat_minor": 2,
 "cells": [
  {
   "cell_type": "code",
   "execution_count": 1,
   "metadata": {},
   "outputs": [],
   "source": [
    "from selenium import webdriver\n",
    "from selenium.webdriver.common.keys import Keys\n",
    "from selenium.webdriver.common.by import By\n",
    "from selenium.webdriver.support.ui import WebDriverWait\n",
    "from selenium.webdriver.support import expected_conditions\n",
    "from concurrent.futures import ProcessPoolExecutor\n",
    "import time\n",
    "import datetime\n",
    "import io\n",
    "import sqlite3\n",
    "import pyodbc \n",
    "import concurrent\n",
    "import threading\n"
   ]
  },
  {
   "cell_type": "code",
   "execution_count": 2,
   "metadata": {},
   "outputs": [
    {
     "output_type": "stream",
     "name": "stderr",
     "text": [
      "<ipython-input-2-b5f1867c00b1>:3: DeprecationWarning: use options instead of chrome_options\n  driver = webdriver.Chrome(chrome_options=options)\n"
     ]
    }
   ],
   "source": [
    "options = webdriver.ChromeOptions()\n",
    "options.add_argument(\"--start-maximized\")\n",
    "driver = webdriver.Chrome(chrome_options=options)"
   ]
  },
  {
   "cell_type": "code",
   "execution_count": 3,
   "metadata": {},
   "outputs": [],
   "source": [
    "driver.get(\"https://www.google.com\")"
   ]
  },
  {
   "cell_type": "code",
   "execution_count": 4,
   "metadata": {},
   "outputs": [],
   "source": [
    "button=driver.find_element_by_xpath(\"//input\")"
   ]
  },
  {
   "cell_type": "code",
   "execution_count": 5,
   "metadata": {},
   "outputs": [],
   "source": [
    "button.send_keys(\"google play TikTok\")"
   ]
  },
  {
   "cell_type": "code",
   "execution_count": 6,
   "metadata": {},
   "outputs": [],
   "source": [
    "button.send_keys(Keys.RETURN)"
   ]
  },
  {
   "cell_type": "code",
   "execution_count": 7,
   "metadata": {},
   "outputs": [],
   "source": [
    "#serach for the applcation in the Google play\n",
    "try:\n",
    "    link=WebDriverWait(driver,10).until(\n",
    "        expected_conditions.presence_of_all_elements_located(\n",
    "            (By.PARTIAL_LINK_TEXT, \"TikTok – Apps on Google Play\")\n",
    "        )                \n",
    "    )\n",
    "    link[0].click()\n",
    "except Exception as e:\n",
    "    print(e)"
   ]
  },
  {
   "cell_type": "code",
   "execution_count": 8,
   "metadata": {},
   "outputs": [],
   "source": [
    "def ful_reviws(i):\n",
    "    result ='ful_reviws'\n",
    "    try:\n",
    "        \n",
    "        ful_reviws=driver.find_element_by_xpath(\n",
    "            F'//*[@id=\"fcxH9b\"]/div[4]/c-wiz[2]/div/div[2]/div/div/main/div/div[1]/div[2]/div/div[{i}]/div/div[2]/div[2]/span[1]/div/button'\n",
    "            )\n",
    "        ful_reviws.click()\n",
    "\n",
    "    except :\n",
    "        pass\n",
    "\n",
    "def get_comments(i):\n",
    "    result='get_comments'\n",
    "     \n",
    "    try:\n",
    "        result= driver.find_elements_by_xpath(\n",
    "                F'//*[@id=\"fcxH9b\"]/div[4]/c-wiz[2]/div/div[2]/div/div/main/div/div[1]/div[2]/div/div[{i}]/div/div[2]/div[2]/span'\n",
    "                )\n",
    "        result=''.join ([x.text for x in result ])\n",
    "        \n",
    "    except Exception as e:\n",
    "        print(e) \n",
    "    return result\n",
    "\n",
    "def get_author(i):\n",
    "    result='get_author'\n",
    "    try:\n",
    "        result= driver.find_element_by_xpath(\n",
    "            f'//*[@id=\"fcxH9b\"]/div[4]/c-wiz/div/div[2]/div/div/main/div/div[1]/div[2]/div/div[{i}]/div/div[2]/div[1]/div[1]/span'\n",
    "        ).text\n",
    "    except Exception as e:\n",
    "        print(e) \n",
    "    return result \n",
    "\n",
    "def get_rating(i):\n",
    "    result='get_rating'\n",
    "    try:\n",
    "        rating=driver.find_element_by_xpath(\n",
    "            f'//*[@id=\"fcxH9b\"]/div[4]/c-wiz/div/div[2]/div/div/main/div/div[1]/div[2]/div/div[{i}]/div/div[2]/div[1]/div[1]/div/span[1]/div/div'\n",
    "        ).get_attribute(\"aria-label\")\n",
    "        result =rating [6:7]\n",
    "    except Exception as e:\n",
    "        print(e) \n",
    "    return result \n",
    "\n",
    "def get_date(i):\n",
    "    result='get_date'\n",
    "    try:\n",
    "        date=driver.find_element_by_xpath(\n",
    "            f'//*[@id=\"fcxH9b\"]/div[4]/c-wiz/div/div[2]/div/div/main/div/div[1]/div[2]/div/div[{i}]/div/div[2]/div[1]/div[1]/div/span[2]'\n",
    "        ).text\n",
    "        result=  datetime.datetime.strptime( date.replace(',',''), '%B %d %Y')\n",
    "    except Exception as e:\n",
    "        print(e) \n",
    "    return result \n",
    "\n",
    "def get_like(i):\n",
    "    result='get_like'\n",
    "    try:\n",
    "        result= driver.find_element_by_xpath(\n",
    "            f'//*[@id=\"fcxH9b\"]/div[4]/c-wiz[2]/div/div[2]/div/div/main/div/div[1]/div[2]/div[1]/div[{i}]/div/div[2]/div[1]/div[2]/div/div[1]/div[2]'\n",
    "        ).text\n",
    "    except Exception as e:\n",
    "        print(e) \n",
    "    return result \n",
    "             "
   ]
  },
  {
   "cell_type": "code",
   "execution_count": 9,
   "metadata": {},
   "outputs": [],
   "source": [
    "\n",
    "class Multi_ins(threading.Thread):\n",
    "    def insert(self,comment, author, rating,date, likes):\n",
    "        connection = pyodbc.connect('Driver={SQL Server};'\n",
    "                                    'Server='+'DESKTOP-RT88KQU'+';'\n",
    "                                    'Database='+'socialMedia'+';'\n",
    "                                    'user=sa;'\n",
    "                                    'password=21')\n",
    "        cursor = connection.cursor()\n",
    "        cursor.execute(\"\"\"\n",
    "        INSERT INTO [dbo].[Ticktock]([comment],[author],[rating],[date],[likes])VALUES (?,?,?,?,?)\"\"\",\n",
    "        comment, author, rating, date, likes)\n",
    "        connection.commit()\n"
   ]
  },
  {
   "cell_type": "code",
   "execution_count": 10,
   "metadata": {
    "tags": []
   },
   "outputs": [],
   "source": [
    "#show complete comments in the pfirst page \n",
    "#Todo : compete this part for the future use in the loop part \n",
    "\n",
    "def get_info( i):\n",
    "    #try to pen comments\n",
    "    ful_reviws(i)\n",
    "    #get comments\n",
    "    comment=get_comments(i)\n",
    "\n",
    "    author=get_author(i)\n",
    "    rating=get_rating(i)\n",
    "    date=get_date(i)\n",
    "    likes=get_like(i)\n",
    "\n",
    "    # print(f\"author:{author} rate: {rating} cr_date: {date} likes: {likes}\")\n",
    "    if (comment and comment !='get_comments' and comment !='') :\n",
    "        Multi_ins().insert(comment,author,rating ,date , likes  )\n"
   ]
  },
  {
   "cell_type": "code",
   "execution_count": 11,
   "metadata": {},
   "outputs": [],
   "source": [
    "#click on the read all revies for the first time in the page\n",
    "try:\n",
    "    read_all_reviews=WebDriverWait(driver, 4).until(\n",
    "        expected_conditions.presence_of_element_located((By.XPATH, '//*[@id=\"fcxH9b\"]/div[4]/c-wiz/div/div[2]/div/div/main/div/div[1]/div[6]/div/span/span'))\n",
    "    )  \n",
    "except Exception as e:\n",
    "    print(e)\n",
    "read_all_reviews.click()\n",
    "#//*[@id=\"fcxH9b\"]/div[4]/c-wiz/div/div[2]/div/div/main/div/div[1]/div[6]/div/span/span"
   ]
  },
  {
   "cell_type": "code",
   "execution_count": 12,
   "metadata": {},
   "outputs": [],
   "source": [
    "def cuncur(j):\n",
    "            with ProcessPoolExecutor() as executer:\n",
    "                result = [executer.submit(get_info, j) for j in range(1, 10)]\n",
    "                \n",
    "            for item in concurrent.futures.as_completed(result):\n",
    "                item.result()\n",
    "\n"
   ]
  },
  {
   "cell_type": "code",
   "execution_count": 51,
   "metadata": {},
   "outputs": [
    {
     "output_type": "error",
     "ename": "NameError",
     "evalue": "name 't4' is not defined",
     "traceback": [
      "\u001b[1;31m---------------------------------------------------------------------------\u001b[0m",
      "\u001b[1;31mNameError\u001b[0m                                 Traceback (most recent call last)",
      "\u001b[1;32m<ipython-input-51-a29627f9c1d8>\u001b[0m in \u001b[0;36m<module>\u001b[1;34m\u001b[0m\n\u001b[0;32m     13\u001b[0m         \u001b[0mt2\u001b[0m\u001b[1;33m.\u001b[0m\u001b[0mstart\u001b[0m\u001b[1;33m(\u001b[0m\u001b[1;33m)\u001b[0m\u001b[1;33m\u001b[0m\u001b[1;33m\u001b[0m\u001b[0m\n\u001b[0;32m     14\u001b[0m         \u001b[0mt3\u001b[0m\u001b[1;33m.\u001b[0m\u001b[0mstart\u001b[0m\u001b[1;33m(\u001b[0m\u001b[1;33m)\u001b[0m\u001b[1;33m\u001b[0m\u001b[1;33m\u001b[0m\u001b[0m\n\u001b[1;32m---> 15\u001b[1;33m         \u001b[0mt4\u001b[0m\u001b[1;33m.\u001b[0m\u001b[0mstart\u001b[0m\u001b[1;33m(\u001b[0m\u001b[1;33m)\u001b[0m\u001b[1;33m\u001b[0m\u001b[1;33m\u001b[0m\u001b[0m\n\u001b[0m\u001b[0;32m     16\u001b[0m         \u001b[0mt5\u001b[0m\u001b[1;33m.\u001b[0m\u001b[0mstart\u001b[0m\u001b[1;33m(\u001b[0m\u001b[1;33m)\u001b[0m\u001b[1;33m\u001b[0m\u001b[1;33m\u001b[0m\u001b[0m\n\u001b[0;32m     17\u001b[0m         \u001b[0mt1\u001b[0m\u001b[1;33m.\u001b[0m\u001b[0mjoin\u001b[0m\u001b[1;33m(\u001b[0m\u001b[1;33m)\u001b[0m\u001b[1;33m\u001b[0m\u001b[1;33m\u001b[0m\u001b[0m\n",
      "\u001b[1;31mNameError\u001b[0m: name 't4' is not defined"
     ]
    }
   ],
   "source": [
    "j=1\n",
    "flag=True\n",
    "body = driver.find_element_by_css_selector('body')\n",
    "driver.execute_script(\"window.scrollTo(0, document.body.scrollHeight);\")\n",
    "time.sleep(1)\n",
    "while flag:\n",
    "        t1 = threading.Thread(target=get_info, args=[j])\n",
    "        t2 = threading.Thread(target=get_info, args=[j+1])\n",
    "        t3 = threading.Thread(target=get_info, args=[j+2])\n",
    "        t4 = threading.Thread(target=get_info, args=[j+3])\n",
    "        t5 = threading.Thread(target=get_info, args=[j+4])\n",
    "        t1.start()\n",
    "        t2.start()\n",
    "        t3.start()\n",
    "        t4.start()\n",
    "        t5.start()\n",
    "        t1.join()\n",
    "        t2.join()\n",
    "        t3.join()\n",
    "        t4.join()\n",
    "        t5.join()\n",
    "        j+=5\n",
    "        driver.execute_script(\"window.scrollTo(0, document.body.scrollHeight);\")\n",
    "        time.sleep(1)\n",
    "        driver.execute_script(\"window.scrollTo(0, document.body.scrollHeight);\")\n",
    "        time.sleep(1)        \n",
    "        try:\n",
    "            showmore=WebDriverWait(driver, 0.3).until(\n",
    "                expected_conditions.presence_of_element_located(\n",
    "                    (By.XPATH,'//div[@class=\"PFAhAf\"]/div[@role=\"button\"]/span[@class=\"CwaK9\"]/span[@class=\"RveJvd snByac\"]')\n",
    "                )\n",
    "            )\n",
    "            showmore.click()\n",
    "        except Exception as  e:\n",
    "            pass\n",
    "        if j %102==0:\n",
    "            print(j, end=' ')             \n",
    "  "
   ]
  },
  {
   "cell_type": "code",
   "execution_count": null,
   "metadata": {},
   "outputs": [],
   "source": []
  }
 ]
}