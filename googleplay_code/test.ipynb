{
 "metadata": {
  "language_info": {
   "codemirror_mode": {
    "name": "ipython",
    "version": 3
   },
   "file_extension": ".py",
   "mimetype": "text/x-python",
   "name": "python",
   "nbconvert_exporter": "python",
   "pygments_lexer": "ipython3",
   "version": "3.8.8"
  },
  "orig_nbformat": 2,
  "kernelspec": {
   "name": "python388jvsc74a57bd01baa965d5efe3ac65b79dfc60c0d706280b1da80fedb7760faf2759126c4f253",
   "display_name": "Python 3.8.8 64-bit"
  },
  "metadata": {
   "interpreter": {
    "hash": "1baa965d5efe3ac65b79dfc60c0d706280b1da80fedb7760faf2759126c4f253"
   }
  }
 },
 "nbformat": 4,
 "nbformat_minor": 2,
 "cells": [
  {
   "cell_type": "code",
   "execution_count": 1,
   "metadata": {},
   "outputs": [],
   "source": [
    "from selenium import webdriver\n",
    "from selenium.webdriver.common.keys import Keys\n",
    "from selenium.webdriver.common.by import By\n",
    "from selenium.webdriver.support.ui import WebDriverWait\n",
    "from selenium.webdriver.support import expected_conditions\n",
    "import time\n",
    "import datetime\n",
    "import io\n",
    "import sqlite3"
   ]
  },
  {
   "cell_type": "code",
   "execution_count": 2,
   "metadata": {},
   "outputs": [],
   "source": [
    "driver= webdriver.Chrome()"
   ]
  },
  {
   "cell_type": "code",
   "execution_count": 3,
   "metadata": {},
   "outputs": [],
   "source": [
    "driver.get(\"https://www.google.com\")"
   ]
  },
  {
   "cell_type": "code",
   "execution_count": 4,
   "metadata": {},
   "outputs": [],
   "source": [
    "button=driver.find_element_by_xpath(\"//input\")"
   ]
  },
  {
   "cell_type": "code",
   "execution_count": 5,
   "metadata": {},
   "outputs": [],
   "source": [
    "button.send_keys(\"google play pinterest\")"
   ]
  },
  {
   "cell_type": "code",
   "execution_count": 6,
   "metadata": {},
   "outputs": [],
   "source": [
    "button.send_keys(Keys.RETURN)"
   ]
  },
  {
   "cell_type": "code",
   "execution_count": 7,
   "metadata": {},
   "outputs": [],
   "source": [
    "#serach for the applcation in the Google play\n",
    "try:\n",
    "    link=WebDriverWait(driver,10).until(\n",
    "        expected_conditions.presence_of_all_elements_located(\n",
    "            (By.PARTIAL_LINK_TEXT, \"Pinterest – Apps on Google Play\")\n",
    "        )                \n",
    "    )\n",
    "    link[0].click()\n",
    "except Exception as e:\n",
    "    print(e)"
   ]
  },
  {
   "cell_type": "code",
   "execution_count": 8,
   "metadata": {},
   "outputs": [],
   "source": [
    "#click on the read all revies for the first time in the page\n",
    "try:\n",
    "    read_all_reviews=WebDriverWait(driver, 4).until(\n",
    "        expected_conditions.presence_of_element_located((By.XPATH, '//*[@id=\"fcxH9b\"]/div[4]/c-wiz/div/div[2]/div/div/main/div/div[1]/div[6]/div/span/span'))\n",
    "    )  \n",
    "except Exception as e:\n",
    "    print(e)\n",
    "read_all_reviews.click()\n",
    "#//*[@id=\"fcxH9b\"]/div[4]/c-wiz/div/div[2]/div/div/main/div/div[1]/div[6]/div/span/span"
   ]
  },
  {
   "cell_type": "code",
   "execution_count": 9,
   "metadata": {},
   "outputs": [],
   "source": [
    "def create_table_pintrest():\n",
    "    conn = sqlite3.connect(database='hesam.db')\n",
    "    cur = conn.cursor()\n",
    "    cur.execute(\n",
    "        # 'comment', 'author', 'rate', 'cr_date','likes'\n",
    "        'CREATE TABLE IF NOT EXISTS [pintrest]  (comment text,author text, rate int,cr_date text, likes int  )')\n",
    "    conn.commit()\n",
    "    conn.close()\n",
    "# insert\n",
    "\n",
    "def insert(comment ,author , rate ,cr_date , likes):\n",
    "    conn = sqlite3.connect(database='hesam.db')\n",
    "    cur = conn.cursor()\n",
    "    cur.execute(\"insert into pintrest values(?,?,?,?,?)\", (comment ,author , rate ,cr_date , likes ))\n",
    "    conn.commit()\n",
    "    conn.close()\n",
    "    \n",
    "def select():\n",
    "    conn = sqlite3.connect('hesam.db')\n",
    "    cur = conn.cursor()\n",
    "    cur.execute('select * from pintrest')\n",
    "    t1 = cur.fetchall()\n",
    "    conn.close()\n",
    "    return t1"
   ]
  },
  {
   "cell_type": "code",
   "execution_count": 10,
   "metadata": {},
   "outputs": [
    {
     "output_type": "error",
     "ename": "DatabaseError",
     "evalue": "database disk image is malformed",
     "traceback": [
      "\u001b[1;31m---------------------------------------------------------------------------\u001b[0m",
      "\u001b[1;31mDatabaseError\u001b[0m                             Traceback (most recent call last)",
      "\u001b[1;32m<ipython-input-10-3f810cd55089>\u001b[0m in \u001b[0;36m<module>\u001b[1;34m\u001b[0m\n\u001b[1;32m----> 1\u001b[1;33m \u001b[0mcreate_table_pintrest\u001b[0m\u001b[1;33m(\u001b[0m\u001b[1;33m)\u001b[0m\u001b[1;33m\u001b[0m\u001b[1;33m\u001b[0m\u001b[0m\n\u001b[0m",
      "\u001b[1;32m<ipython-input-9-23469b775c14>\u001b[0m in \u001b[0;36mcreate_table_pintrest\u001b[1;34m()\u001b[0m\n\u001b[0;32m      2\u001b[0m     \u001b[0mconn\u001b[0m \u001b[1;33m=\u001b[0m \u001b[0msqlite3\u001b[0m\u001b[1;33m.\u001b[0m\u001b[0mconnect\u001b[0m\u001b[1;33m(\u001b[0m\u001b[0mdatabase\u001b[0m\u001b[1;33m=\u001b[0m\u001b[1;34m'hesam.db'\u001b[0m\u001b[1;33m)\u001b[0m\u001b[1;33m\u001b[0m\u001b[1;33m\u001b[0m\u001b[0m\n\u001b[0;32m      3\u001b[0m     \u001b[0mcur\u001b[0m \u001b[1;33m=\u001b[0m \u001b[0mconn\u001b[0m\u001b[1;33m.\u001b[0m\u001b[0mcursor\u001b[0m\u001b[1;33m(\u001b[0m\u001b[1;33m)\u001b[0m\u001b[1;33m\u001b[0m\u001b[1;33m\u001b[0m\u001b[0m\n\u001b[1;32m----> 4\u001b[1;33m     cur.execute(\n\u001b[0m\u001b[0;32m      5\u001b[0m         \u001b[1;31m# 'comment', 'author', 'rate', 'cr_date','likes'\u001b[0m\u001b[1;33m\u001b[0m\u001b[1;33m\u001b[0m\u001b[1;33m\u001b[0m\u001b[0m\n\u001b[0;32m      6\u001b[0m         'CREATE TABLE IF NOT EXISTS [pintrest]  (comment text,author text, rate int,cr_date text, likes int  )')\n",
      "\u001b[1;31mDatabaseError\u001b[0m: database disk image is malformed"
     ]
    }
   ],
   "source": [
    "create_table_pintrest()"
   ]
  },
  {
   "cell_type": "code",
   "execution_count": 11,
   "metadata": {
    "tags": []
   },
   "outputs": [
    {
     "output_type": "stream",
     "name": "stdout",
     "text": [
      "database disk image is malformed\n",
      "database disk image is malformed\n",
      "database disk image is malformed\n",
      "database disk image is malformed\n",
      "database disk image is malformed\n",
      "database disk image is malformed\n",
      "database disk image is malformed\n",
      "database disk image is malformed\n",
      "database disk image is malformed\n",
      "database disk image is malformed\n",
      "database disk image is malformed\n",
      "database disk image is malformed\n",
      "database disk image is malformed\n",
      "database disk image is malformed\n",
      "database disk image is malformed\n",
      "database disk image is malformed\n",
      "database disk image is malformed\n",
      "database disk image is malformed\n",
      "database disk image is malformed\n",
      "database disk image is malformed\n",
      "database disk image is malformed\n",
      "database disk image is malformed\n",
      "database disk image is malformed\n",
      "database disk image is malformed\n",
      "database disk image is malformed\n",
      "database disk image is malformed\n",
      "database disk image is malformed\n",
      "database disk image is malformed\n",
      "database disk image is malformed\n",
      "database disk image is malformed\n",
      "database disk image is malformed\n",
      "database disk image is malformed\n",
      "database disk image is malformed\n",
      "database disk image is malformed\n",
      "database disk image is malformed\n",
      "database disk image is malformed\n",
      "database disk image is malformed\n",
      "database disk image is malformed\n",
      "database disk image is malformed\n",
      "database disk image is malformed\n",
      "database disk image is malformed\n",
      "database disk image is malformed\n",
      "database disk image is malformed\n",
      "database disk image is malformed\n",
      "database disk image is malformed\n",
      "database disk image is malformed\n",
      "database disk image is malformed\n",
      "database disk image is malformed\n",
      "database disk image is malformed\n",
      "database disk image is malformed\n",
      "database disk image is malformed\n",
      "database disk image is malformed\n",
      "database disk image is malformed\n",
      "database disk image is malformed\n",
      "database disk image is malformed\n",
      "database disk image is malformed\n",
      "database disk image is malformed\n",
      "database disk image is malformed\n",
      "database disk image is malformed\n",
      "database disk image is malformed\n",
      "database disk image is malformed\n",
      "database disk image is malformed\n",
      "database disk image is malformed\n",
      "database disk image is malformed\n",
      "database disk image is malformed\n",
      "database disk image is malformed\n",
      "database disk image is malformed\n",
      "database disk image is malformed\n",
      "database disk image is malformed\n",
      "database disk image is malformed\n",
      "database disk image is malformed\n",
      "database disk image is malformed\n",
      "database disk image is malformed\n",
      "database disk image is malformed\n",
      "database disk image is malformed\n",
      "database disk image is malformed\n",
      "database disk image is malformed\n",
      "database disk image is malformed\n",
      "database disk image is malformed\n",
      "database disk image is malformed\n",
      "database disk image is malformed\n",
      "database disk image is malformed\n",
      "database disk image is malformed\n",
      "database disk image is malformed\n",
      "database disk image is malformed\n",
      "database disk image is malformed\n",
      "database disk image is malformed\n",
      "database disk image is malformed\n",
      "database disk image is malformed\n",
      "database disk image is malformed\n",
      "database disk image is malformed\n",
      "database disk image is malformed\n",
      "database disk image is malformed\n",
      "database disk image is malformed\n",
      "database disk image is malformed\n",
      "database disk image is malformed\n",
      "database disk image is malformed\n",
      "database disk image is malformed\n",
      "database disk image is malformed\n"
     ]
    }
   ],
   "source": [
    "#show complete comments in the pfirst page \n",
    "#Todo : compete this part for the future use in the loop part \n",
    "\n",
    "for i in range(1,100):\n",
    "\n",
    "    try:\n",
    "        ful_reviws=driver.find_element_by_xpath(\n",
    "            F'//*[@id=\"fcxH9b\"]/div[4]/c-wiz[2]/div/div[2]/div/div/main/div/div[1]/div[2]/div/div[{i}]/div/div[2]/div[2]/span[1]/div/button'\n",
    "            )\n",
    "        ful_reviws.click()\n",
    "\n",
    "    except :\n",
    "        pass\n",
    "        \n",
    "    \n",
    "    #get comments\n",
    "    try:\n",
    "        comment=driver.find_element_by_xpath(\n",
    "              F'//*[@id=\"fcxH9b\"]/div[4]/c-wiz[2]/div/div[2]/div/div/main/div/div[1]/div[2]/div/div[{i}]/div/div[2]/div[2]/span[2]'\n",
    "            ).text\n",
    "\n",
    "        author=driver.find_element_by_xpath(\n",
    "            f'//*[@id=\"fcxH9b\"]/div[4]/c-wiz/div/div[2]/div/div/main/div/div[1]/div[2]/div/div[{i}]/div/div[2]/div[1]/div[1]/span'\n",
    "        ).text\n",
    "\n",
    "        rating=driver.find_element_by_xpath(\n",
    "            f'//*[@id=\"fcxH9b\"]/div[4]/c-wiz/div/div[2]/div/div/main/div/div[1]/div[2]/div/div[{i}]/div/div[2]/div[1]/div[1]/div/span[1]/div/div'\n",
    "        ).get_attribute(\"aria-label\")\n",
    "        rate =rating [6:7]\n",
    "\n",
    "        date=driver.find_element_by_xpath(\n",
    "            f'//*[@id=\"fcxH9b\"]/div[4]/c-wiz/div/div[2]/div/div/main/div/div[1]/div[2]/div/div[{i}]/div/div[2]/div[1]/div[1]/div/span[2]'\n",
    "        ).text\n",
    "        cr_date = datetime.datetime.strptime( date.replace(',',''), '%B %d %Y')\n",
    "\n",
    "\n",
    "        likes=driver.find_element_by_xpath(\n",
    "            f'//*[@id=\"fcxH9b\"]/div[4]/c-wiz[2]/div/div[2]/div/div/main/div/div[1]/div[2]/div[1]/div[{i}]/div/div[2]/div[1]/div[2]/div/div[1]/div[2]'\n",
    "        ).text\n",
    "\n",
    "\n",
    "\n",
    "        insert(comment ,author , rate ,cr_date , likes)\n",
    "\n",
    "    except Exception as e :\n",
    "        print(e)\n",
    "\n"
   ]
  },
  {
   "cell_type": "code",
   "execution_count": 12,
   "metadata": {},
   "outputs": [
    {
     "output_type": "error",
     "ename": "NameError",
     "evalue": "name 'all_data' is not defined",
     "traceback": [
      "\u001b[1;31m---------------------------------------------------------------------------\u001b[0m",
      "\u001b[1;31mNameError\u001b[0m                                 Traceback (most recent call last)",
      "\u001b[1;32m<ipython-input-12-651906c959da>\u001b[0m in \u001b[0;36m<module>\u001b[1;34m\u001b[0m\n\u001b[1;32m----> 1\u001b[1;33m \u001b[0mprint\u001b[0m \u001b[1;33m(\u001b[0m\u001b[0mlen\u001b[0m \u001b[1;33m(\u001b[0m\u001b[0mall_data\u001b[0m\u001b[1;33m)\u001b[0m\u001b[1;33m)\u001b[0m\u001b[1;33m\u001b[0m\u001b[1;33m\u001b[0m\u001b[0m\n\u001b[0m",
      "\u001b[1;31mNameError\u001b[0m: name 'all_data' is not defined"
     ]
    }
   ],
   "source": [
    "print (len (all_data))"
   ]
  },
  {
   "cell_type": "code",
   "execution_count": 29,
   "metadata": {},
   "outputs": [
    {
     "output_type": "stream",
     "name": "stdout",
     "text": [
      "Message: \n\n"
     ]
    },
    {
     "output_type": "error",
     "ename": "KeyboardInterrupt",
     "evalue": "",
     "traceback": [
      "\u001b[1;31m---------------------------------------------------------------------------\u001b[0m",
      "\u001b[1;31mKeyboardInterrupt\u001b[0m                         Traceback (most recent call last)",
      "\u001b[1;32m<ipython-input-29-10e141c6e86d>\u001b[0m in \u001b[0;36m<module>\u001b[1;34m\u001b[0m\n\u001b[0;32m     11\u001b[0m         \u001b[0mprint\u001b[0m \u001b[1;33m(\u001b[0m\u001b[0me\u001b[0m\u001b[1;33m)\u001b[0m\u001b[1;33m\u001b[0m\u001b[1;33m\u001b[0m\u001b[0m\n\u001b[0;32m     12\u001b[0m     \u001b[1;32mfinally\u001b[0m\u001b[1;33m:\u001b[0m\u001b[1;33m\u001b[0m\u001b[1;33m\u001b[0m\u001b[0m\n\u001b[1;32m---> 13\u001b[1;33m         \u001b[0mtime\u001b[0m\u001b[1;33m.\u001b[0m\u001b[0msleep\u001b[0m\u001b[1;33m(\u001b[0m\u001b[1;36m1\u001b[0m\u001b[1;33m)\u001b[0m\u001b[1;33m\u001b[0m\u001b[1;33m\u001b[0m\u001b[0m\n\u001b[0m\u001b[0;32m     14\u001b[0m         \u001b[0mbody\u001b[0m \u001b[1;33m=\u001b[0m \u001b[0mdriver\u001b[0m\u001b[1;33m.\u001b[0m\u001b[0mfind_element_by_css_selector\u001b[0m\u001b[1;33m(\u001b[0m\u001b[1;34m'body'\u001b[0m\u001b[1;33m)\u001b[0m\u001b[1;33m\u001b[0m\u001b[1;33m\u001b[0m\u001b[0m\n\u001b[0;32m     15\u001b[0m \u001b[1;33m\u001b[0m\u001b[0m\n",
      "\u001b[1;31mKeyboardInterrupt\u001b[0m: "
     ]
    }
   ],
   "source": [
    "'''\n",
    "while i<100:\n",
    "    i+=1\n",
    "    try:\n",
    "        showmore=WebDriverWait(driver, 3).until(\n",
    "            expected_conditions.presence_of_element_located(\n",
    "                (By.XPATH,'//div[@class=\"PFAhAf\"]/div[@role=\"button\"]/span[@class=\"CwaK9\"]/span[@class=\"RveJvd snByac\"]')\n",
    "            )\n",
    "        )\n",
    "        showmore.click()\n",
    "    except Exception as  e:\n",
    "        print (e)\n",
    "    finally:\n",
    "        time.sleep(1)\n",
    "        body = driver.find_element_by_css_selector('body')\n",
    "\n",
    "        for i in range(20):\n",
    "            f=F'//*[@id=\"fcxH9b\"]/div[4]/c-wiz/div/div[2]/div/div/main/div/div[1]/div[2]/div/div[{i}]/div/div[2]/div[3]'\n",
    "            time.sleep(.5)\n",
    "            body.send_keys(Keys.PAGE_DOWN)\n",
    "'''\n"
   ]
  },
  {
   "cell_type": "code",
   "execution_count": null,
   "metadata": {},
   "outputs": [],
   "source": []
  }
 ]
}