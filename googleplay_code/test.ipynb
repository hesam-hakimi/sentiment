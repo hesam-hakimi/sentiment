{
 "metadata": {
  "language_info": {
   "codemirror_mode": {
    "name": "ipython",
    "version": 3
   },
   "file_extension": ".py",
   "mimetype": "text/x-python",
   "name": "python",
   "nbconvert_exporter": "python",
   "pygments_lexer": "ipython3",
   "version": "3.8.8"
  },
  "orig_nbformat": 2,
  "kernelspec": {
   "name": "python388jvsc74a57bd01baa965d5efe3ac65b79dfc60c0d706280b1da80fedb7760faf2759126c4f253",
   "display_name": "Python 3.8.8 64-bit"
  },
  "metadata": {
   "interpreter": {
    "hash": "1baa965d5efe3ac65b79dfc60c0d706280b1da80fedb7760faf2759126c4f253"
   }
  }
 },
 "nbformat": 4,
 "nbformat_minor": 2,
 "cells": [
  {
   "cell_type": "code",
   "execution_count": 1,
   "metadata": {},
   "outputs": [],
   "source": [
    "from selenium import webdriver\n",
    "from selenium.webdriver.common.keys import Keys\n",
    "from selenium.webdriver.common.by import By\n",
    "from selenium.webdriver.support.ui import WebDriverWait\n",
    "from selenium.webdriver.support import expected_conditions\n",
    "import time\n",
    "import datetime\n",
    "import io\n",
    "import sqlite3"
   ]
  },
  {
   "cell_type": "code",
   "execution_count": 2,
   "metadata": {},
   "outputs": [
    {
     "output_type": "stream",
     "name": "stderr",
     "text": [
      "<ipython-input-2-b5f1867c00b1>:3: DeprecationWarning: use options instead of chrome_options\n  driver = webdriver.Chrome(chrome_options=options)\n"
     ]
    }
   ],
   "source": [
    "options = webdriver.ChromeOptions()\n",
    "options.add_argument(\"--start-maximized\")\n",
    "driver = webdriver.Chrome(chrome_options=options)"
   ]
  },
  {
   "cell_type": "code",
   "execution_count": 3,
   "metadata": {},
   "outputs": [],
   "source": [
    "driver.get(\"https://www.google.com\")"
   ]
  },
  {
   "cell_type": "code",
   "execution_count": 4,
   "metadata": {},
   "outputs": [],
   "source": [
    "button=driver.find_element_by_xpath(\"//input\")"
   ]
  },
  {
   "cell_type": "code",
   "execution_count": 5,
   "metadata": {},
   "outputs": [],
   "source": [
    "button.send_keys(\"google play pinterest\")"
   ]
  },
  {
   "cell_type": "code",
   "execution_count": 6,
   "metadata": {},
   "outputs": [],
   "source": [
    "button.send_keys(Keys.RETURN)"
   ]
  },
  {
   "cell_type": "code",
   "execution_count": 7,
   "metadata": {},
   "outputs": [],
   "source": [
    "#serach for the applcation in the Google play\n",
    "try:\n",
    "    link=WebDriverWait(driver,10).until(\n",
    "        expected_conditions.presence_of_all_elements_located(\n",
    "            (By.PARTIAL_LINK_TEXT, \"Pinterest – Apps on Google Play\")\n",
    "        )                \n",
    "    )\n",
    "    link[0].click()\n",
    "except Exception as e:\n",
    "    print(e)"
   ]
  },
  {
   "cell_type": "code",
   "execution_count": 8,
   "metadata": {},
   "outputs": [],
   "source": [
    "#click on the read all revies for the first time in the page\n",
    "try:\n",
    "    read_all_reviews=WebDriverWait(driver, 4).until(\n",
    "        expected_conditions.presence_of_element_located((By.XPATH, '//*[@id=\"fcxH9b\"]/div[4]/c-wiz/div/div[2]/div/div/main/div/div[1]/div[6]/div/span/span'))\n",
    "    )  \n",
    "except Exception as e:\n",
    "    print(e)\n",
    "read_all_reviews.click()\n",
    "#//*[@id=\"fcxH9b\"]/div[4]/c-wiz/div/div[2]/div/div/main/div/div[1]/div[6]/div/span/span"
   ]
  },
  {
   "cell_type": "code",
   "execution_count": 9,
   "metadata": {},
   "outputs": [],
   "source": [
    "def create_table_pintrest():\n",
    "    conn = sqlite3.connect(database='hesam.db')\n",
    "    cur = conn.cursor()\n",
    "    cur.execute(\n",
    "        # 'comment', 'author', 'rate', 'cr_date','likes'\n",
    "        'CREATE TABLE IF NOT EXISTS [pintrest]  (comment text,author text, rate int,cr_date text, likes int  )')\n",
    "    conn.commit()\n",
    "    conn.close()\n",
    "# insert\n",
    "\n",
    "def insert(comment ,author , rate ,cr_date , likes):\n",
    "    conn = sqlite3.connect(database='hesam.db')\n",
    "    cur = conn.cursor()\n",
    "    cur.execute(\"insert into pintrest values(?,?,?,?,?)\", (comment ,author , rate ,cr_date , likes ))\n",
    "    conn.commit()\n",
    "    conn.close()\n",
    "    \n",
    "def select():\n",
    "    conn = sqlite3.connect('hesam.db')\n",
    "    cur = conn.cursor()\n",
    "    cur.execute('select * from pintrest')\n",
    "    t1 = cur.fetchall()\n",
    "    conn.close()\n",
    "    return t1\n",
    "\n",
    "def delete():\n",
    "    conn = sqlite3.connect('hesam.db')\n",
    "    cur = conn.cursor()\n",
    "    cur.execute(\"delete from pintrest \")\n",
    "    conn.commit()\n",
    "    conn.close()"
   ]
  },
  {
   "cell_type": "code",
   "execution_count": 10,
   "metadata": {},
   "outputs": [],
   "source": [
    "create_table_pintrest()"
   ]
  },
  {
   "cell_type": "code",
   "execution_count": 11,
   "metadata": {},
   "outputs": [],
   "source": [
    "delete()"
   ]
  },
  {
   "cell_type": "code",
   "execution_count": 12,
   "metadata": {},
   "outputs": [],
   "source": [
    "def ful_reviws(i):\n",
    "    result ='ful_reviws'\n",
    "    try:\n",
    "        \n",
    "        ful_reviws=driver.find_element_by_xpath(\n",
    "            F'//*[@id=\"fcxH9b\"]/div[4]/c-wiz[2]/div/div[2]/div/div/main/div/div[1]/div[2]/div/div[{i}]/div/div[2]/div[2]/span[1]/div/button'\n",
    "            )\n",
    "        ful_reviws.click()\n",
    "\n",
    "    except :\n",
    "        pass\n",
    "\n",
    "def get_comments(i):\n",
    "    result='get_comments'\n",
    "     \n",
    "    try:\n",
    "        result= driver.find_elements_by_xpath(\n",
    "                F'//*[@id=\"fcxH9b\"]/div[4]/c-wiz[2]/div/div[2]/div/div/main/div/div[1]/div[2]/div/div[{i}]/div/div[2]/div[2]/span'\n",
    "                )\n",
    "        result=''.join ([x.text for x in result ])\n",
    "        \n",
    "    except Exception as e:\n",
    "        print(e) \n",
    "    return result\n",
    "\n",
    "def get_author(i):\n",
    "    result='get_author'\n",
    "    try:\n",
    "        result= driver.find_element_by_xpath(\n",
    "            f'//*[@id=\"fcxH9b\"]/div[4]/c-wiz/div/div[2]/div/div/main/div/div[1]/div[2]/div/div[{i}]/div/div[2]/div[1]/div[1]/span'\n",
    "        ).text\n",
    "    except Exception as e:\n",
    "        print(e) \n",
    "    return result \n",
    "\n",
    "def get_rating(i):\n",
    "    result='get_rating'\n",
    "    try:\n",
    "        rating=driver.find_element_by_xpath(\n",
    "            f'//*[@id=\"fcxH9b\"]/div[4]/c-wiz/div/div[2]/div/div/main/div/div[1]/div[2]/div/div[{i}]/div/div[2]/div[1]/div[1]/div/span[1]/div/div'\n",
    "        ).get_attribute(\"aria-label\")\n",
    "        result =rating [6:7]\n",
    "    except Exception as e:\n",
    "        print(e) \n",
    "    return result \n",
    "\n",
    "def get_date(i):\n",
    "    result='get_date'\n",
    "    try:\n",
    "        date=driver.find_element_by_xpath(\n",
    "            f'//*[@id=\"fcxH9b\"]/div[4]/c-wiz/div/div[2]/div/div/main/div/div[1]/div[2]/div/div[{i}]/div/div[2]/div[1]/div[1]/div/span[2]'\n",
    "        ).text\n",
    "        result=  datetime.datetime.strptime( date.replace(',',''), '%B %d %Y')\n",
    "    except Exception as e:\n",
    "        print(e) \n",
    "    return result \n",
    "\n",
    "def get_like(i):\n",
    "    result='get_like'\n",
    "    try:\n",
    "        result= driver.find_element_by_xpath(\n",
    "            f'//*[@id=\"fcxH9b\"]/div[4]/c-wiz[2]/div/div[2]/div/div/main/div/div[1]/div[2]/div[1]/div[{i}]/div/div[2]/div[1]/div[2]/div/div[1]/div[2]'\n",
    "        ).text\n",
    "    except Exception as e:\n",
    "        print(e) \n",
    "    return result \n",
    "             "
   ]
  },
  {
   "cell_type": "code",
   "execution_count": 13,
   "metadata": {
    "tags": []
   },
   "outputs": [],
   "source": [
    "#show complete comments in the pfirst page \n",
    "#Todo : compete this part for the future use in the loop part \n",
    "\n",
    "def get_info(i):\n",
    "    #try to pen comments\n",
    "    ful_reviws(i)\n",
    "    #get comments\n",
    "    comment=get_comments(i)\n",
    "    author=get_author(i)\n",
    "    rating=get_rating(i)\n",
    "    date=get_date(i)\n",
    "    likes=get_like(i)\n",
    "\n",
    "    # print(f\"author:{author} rate: {rating} cr_date: {date} likes: {likes}\")\n",
    "    insert(comment,author,rating ,date , likes  )\n",
    "\n",
    "\n"
   ]
  },
  {
   "cell_type": "code",
   "execution_count": 14,
   "metadata": {},
   "outputs": [
    {
     "output_type": "error",
     "ename": "NameError",
     "evalue": "name 'I' is not defined",
     "traceback": [
      "\u001b[1;31m---------------------------------------------------------------------------\u001b[0m",
      "\u001b[1;31mNameError\u001b[0m                                 Traceback (most recent call last)",
      "\u001b[1;32m<ipython-input-14-7b3eb448c750>\u001b[0m in \u001b[0;36m<module>\u001b[1;34m\u001b[0m\n\u001b[0;32m     20\u001b[0m             \u001b[0mget_info\u001b[0m\u001b[1;33m(\u001b[0m\u001b[0mj\u001b[0m\u001b[1;33m)\u001b[0m\u001b[1;33m\u001b[0m\u001b[1;33m\u001b[0m\u001b[0m\n\u001b[0;32m     21\u001b[0m             \u001b[1;32mif\u001b[0m \u001b[0mj\u001b[0m \u001b[1;33m%\u001b[0m \u001b[1;36m10\u001b[0m \u001b[1;33m==\u001b[0m \u001b[1;36m0\u001b[0m \u001b[1;33m:\u001b[0m\u001b[1;33m\u001b[0m\u001b[1;33m\u001b[0m\u001b[0m\n\u001b[1;32m---> 22\u001b[1;33m                 \u001b[1;32mfor\u001b[0m \u001b[0mzi\u001b[0m \u001b[1;32min\u001b[0m \u001b[0mrange\u001b[0m\u001b[1;33m(\u001b[0m\u001b[1;33m(\u001b[0m\u001b[0mI\u001b[0m\u001b[1;33m//\u001b[0m\u001b[1;36m10\u001b[0m\u001b[1;33m)\u001b[0m\u001b[1;33m+\u001b[0m\u001b[1;36m5\u001b[0m\u001b[1;33m)\u001b[0m\u001b[1;33m:\u001b[0m\u001b[1;33m\u001b[0m\u001b[1;33m\u001b[0m\u001b[0m\n\u001b[0m\u001b[0;32m     23\u001b[0m                     \u001b[0mbody\u001b[0m\u001b[1;33m.\u001b[0m\u001b[0msend_keys\u001b[0m\u001b[1;33m(\u001b[0m\u001b[0mKeys\u001b[0m\u001b[1;33m.\u001b[0m\u001b[0mPAGE_DOWN\u001b[0m\u001b[1;33m)\u001b[0m\u001b[1;33m\u001b[0m\u001b[1;33m\u001b[0m\u001b[0m\n\u001b[0;32m     24\u001b[0m                     \u001b[0mtime\u001b[0m\u001b[1;33m.\u001b[0m\u001b[0msleep\u001b[0m\u001b[1;33m(\u001b[0m\u001b[1;36m.2\u001b[0m\u001b[1;33m)\u001b[0m\u001b[1;33m\u001b[0m\u001b[1;33m\u001b[0m\u001b[0m\n",
      "\u001b[1;31mNameError\u001b[0m: name 'I' is not defined"
     ]
    }
   ],
   "source": [
    "i=0\n",
    "j=1\n",
    "while i<200:\n",
    "    j+=1\n",
    "    i+=1\n",
    "    try:\n",
    "        showmore=WebDriverWait(driver, 2).until(\n",
    "            expected_conditions.presence_of_element_located(\n",
    "                (By.XPATH,'//div[@class=\"PFAhAf\"]/div[@role=\"button\"]/span[@class=\"CwaK9\"]/span[@class=\"RveJvd snByac\"]')\n",
    "            )\n",
    "        )\n",
    "        showmore.click()\n",
    "    except Exception as  e:\n",
    "        pass\n",
    "    finally:\n",
    "        time.sleep(1)\n",
    "        body = driver.find_element_by_css_selector('body')\n",
    "    \n",
    "        while j % 50 != 0:\n",
    "            get_info(j)\n",
    "            if j % 10 == 0 :\n",
    "                for zi in range((j//10)+5):\n",
    "                    body.send_keys(Keys.PAGE_DOWN)\n",
    "                    time.sleep(.2)\n",
    "\n",
    "            j+=1\n",
    "        time.sleep(.5)\n",
    "\n"
   ]
  },
  {
   "cell_type": "code",
   "execution_count": 20,
   "metadata": {},
   "outputs": [],
   "source": [
    "# delete()"
   ]
  },
  {
   "cell_type": "code",
   "execution_count": null,
   "metadata": {},
   "outputs": [],
   "source": [
    "# "
   ]
  }
 ]
}